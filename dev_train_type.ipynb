{
 "cells": [
  {
   "cell_type": "code",
   "execution_count": 1,
   "id": "corrected-federal",
   "metadata": {},
   "outputs": [],
   "source": [
    "import logging\n",
    "from typing import Any, Optional\n",
    "\n",
    "import numpy as np\n",
    "from sklearn.metrics import roc_auc_score, accuracy_score\n",
    "import timm\n",
    "import torch\n",
    "from torch.optim import Adam\n",
    "from torch.utils.data import DataLoader\n",
    "from tqdm.auto import tqdm\n",
    "\n",
    "from src.data import IDAOData, train_transforms, val_transforms\n",
    "from src.utils import ExponentialAverage\n",
    "\n",
    "logger = logging.getLogger()\n",
    "logger.setLevel(logging.INFO)"
   ]
  },
  {
   "cell_type": "markdown",
   "id": "wrong-championship",
   "metadata": {},
   "source": [
    "# Train"
   ]
  },
  {
   "cell_type": "code",
   "execution_count": 15,
   "id": "nearby-imaging",
   "metadata": {},
   "outputs": [],
   "source": [
    "BATCH_SIZE = 8\n",
    "N_EPOCHS = 6\n",
    "device = torch.device('cuda')"
   ]
  },
  {
   "cell_type": "code",
   "execution_count": 34,
   "id": "economic-timing",
   "metadata": {},
   "outputs": [],
   "source": [
    "import albumentations as A\n",
    "\n",
    "CROP = 80\n",
    "CENTER = 80\n",
    "NORM_MEAN = 0.3938\n",
    "NORM_STD = 0.15\n",
    "\n",
    "def crop_out_center(img, **kwargs):\n",
    "    height, width = img.shape\n",
    "    from_h, to_h = height//2 - CENTER//2, height//2 + CENTER//2 \n",
    "    from_w, to_w = height//2 - CENTER//2, height//2 + CENTER//2 \n",
    "\n",
    "    img[from_h:to_h, from_w:to_w] = int(0.3938 * 255)\n",
    "    return img\n",
    "    \n",
    "def train_transforms() -> Any:\n",
    "    transforms = A.Compose(\n",
    "        [\n",
    "            A.CenterCrop(CROP, CROP),\n",
    "#             A.Lambda(image=crop_out_center),\n",
    "            A.Flip(p=0.5),\n",
    "            A.RandomRotate90(p=0.5),\n",
    "            A.Normalize(mean=NORM_MEAN, std=NORM_STD),\n",
    "        ]\n",
    "    )\n",
    "\n",
    "    return transforms\n",
    "\n",
    "\n",
    "def val_transforms() -> Any:\n",
    "    transforms = A.Compose(\n",
    "        [\n",
    "            A.CenterCrop(CROP, CROP),\n",
    "#             A.Lambda(image=crop_out_center),            \n",
    "            A.Normalize(mean=NORM_MEAN, std=NORM_STD),\n",
    "        ]\n",
    "    )\n",
    "\n",
    "    return transforms\n"
   ]
  },
  {
   "cell_type": "code",
   "execution_count": 35,
   "id": "subject-marble",
   "metadata": {},
   "outputs": [],
   "source": [
    "train_ds = IDAOData('data/train', transform=train_transforms())\n",
    "val_ds = IDAOData('data/val', transform=val_transforms())\n",
    "test_ds = IDAOData('data/test', transform=val_transforms())\n",
    "test_holdout_ds = IDAOData('data/test_holdout', transform=val_transforms())"
   ]
  },
  {
   "cell_type": "code",
   "execution_count": 36,
   "id": "quiet-positive",
   "metadata": {},
   "outputs": [],
   "source": [
    "def get_train_dataloader():\n",
    "    return DataLoader(\n",
    "        train_ds,\n",
    "        batch_size=BATCH_SIZE,\n",
    "        shuffle=True,\n",
    "        num_workers=8,\n",
    "        pin_memory=True\n",
    "    )\n",
    "\n",
    "def get_val_dataloader(dataset):\n",
    "    return DataLoader(\n",
    "        dataset,\n",
    "        batch_size=4,\n",
    "        shuffle=False,\n",
    "        num_workers=8,\n",
    "        pin_memory=True\n",
    "    )"
   ]
  },
  {
   "cell_type": "code",
   "execution_count": 37,
   "id": "liked-highland",
   "metadata": {},
   "outputs": [],
   "source": [
    "def update_pbar(pbar, loss: float, eval_loss: Optional[float]):\n",
    "    if eval_loss is not None:\n",
    "        pbar.set_postfix({'loss': loss, 'eval_loss': eval_loss})\n",
    "    else:\n",
    "        pbar.set_postfix({'loss': loss})\n",
    "    pbar.update(1)"
   ]
  },
  {
   "cell_type": "code",
   "execution_count": 38,
   "id": "permanent-veteran",
   "metadata": {},
   "outputs": [],
   "source": [
    "model = timm.create_model('efficientnet_b0', in_chans=1, num_classes=2).to(device)\n",
    "optimizer = torch.optim.Adam(model.parameters(), lr=1e-4)\n",
    "scaler = torch.cuda.amp.GradScaler()\n",
    "loss_fn = torch.nn.CrossEntropyLoss()\n",
    "scheduler = torch.optim.lr_scheduler.StepLR(optimizer, 40, gamma=0.1)"
   ]
  },
  {
   "cell_type": "code",
   "execution_count": 39,
   "id": "hundred-silicon",
   "metadata": {},
   "outputs": [
    {
     "data": {
      "application/vnd.jupyter.widget-view+json": {
       "model_id": "2dc1f8b16d8046ba99e4af7c8ca96c9f",
       "version_major": 2,
       "version_minor": 0
      },
      "text/plain": [
       "  0%|          | 0/1507 [00:00<?, ?it/s]"
      ]
     },
     "metadata": {},
     "output_type": "display_data"
    },
    {
     "data": {
      "application/vnd.jupyter.widget-view+json": {
       "model_id": "",
       "version_major": 2,
       "version_minor": 0
      },
      "text/plain": [
       "  0%|          | 0/82 [00:00<?, ?it/s]"
      ]
     },
     "metadata": {},
     "output_type": "display_data"
    },
    {
     "data": {
      "application/vnd.jupyter.widget-view+json": {
       "model_id": "",
       "version_major": 2,
       "version_minor": 0
      },
      "text/plain": [
       "  0%|          | 0/82 [00:00<?, ?it/s]"
      ]
     },
     "metadata": {},
     "output_type": "display_data"
    },
    {
     "data": {
      "application/vnd.jupyter.widget-view+json": {
       "model_id": "",
       "version_major": 2,
       "version_minor": 0
      },
      "text/plain": [
       "  0%|          | 0/82 [00:00<?, ?it/s]"
      ]
     },
     "metadata": {},
     "output_type": "display_data"
    },
    {
     "data": {
      "application/vnd.jupyter.widget-view+json": {
       "model_id": "",
       "version_major": 2,
       "version_minor": 0
      },
      "text/plain": [
       "  0%|          | 0/82 [00:00<?, ?it/s]"
      ]
     },
     "metadata": {},
     "output_type": "display_data"
    },
    {
     "data": {
      "application/vnd.jupyter.widget-view+json": {
       "model_id": "",
       "version_major": 2,
       "version_minor": 0
      },
      "text/plain": [
       "  0%|          | 0/82 [00:00<?, ?it/s]"
      ]
     },
     "metadata": {},
     "output_type": "display_data"
    },
    {
     "data": {
      "application/vnd.jupyter.widget-view+json": {
       "model_id": "",
       "version_major": 2,
       "version_minor": 0
      },
      "text/plain": [
       "  0%|          | 0/82 [00:00<?, ?it/s]"
      ]
     },
     "metadata": {},
     "output_type": "display_data"
    }
   ],
   "source": [
    "eval_loss = None\n",
    "pbar = tqdm(total=len(train_ds) // BATCH_SIZE)\n",
    "\n",
    "for epoch in range(N_EPOCHS):\n",
    "    \n",
    "    pbar.reset()\n",
    "    pbar.set_description(f'Epoch {epoch+1}/{N_EPOCHS}')\n",
    "    \n",
    "    # Train\n",
    "    model.train()\n",
    "    loss_avg = ExponentialAverage()\n",
    "    \n",
    "    for img, r_type, energy in get_train_dataloader():\n",
    "        \n",
    "        img = img.to(device)\n",
    "        r_type = r_type.to(device)\n",
    "        energy = energy.to(device)\n",
    "        \n",
    "        optimizer.zero_grad()\n",
    "        \n",
    "        with torch.cuda.amp.autocast():\n",
    "            r_type_pred = model(img)\n",
    "            loss = loss_fn(r_type_pred, r_type)\n",
    "\n",
    "        scaler.scale(loss).backward()\n",
    "        scaler.step(optimizer)\n",
    "        scaler.update()\n",
    "        \n",
    "        update_pbar(pbar, loss_avg(loss.item()), eval_loss)\n",
    "        \n",
    "    # Eval\n",
    "    model.eval()\n",
    "    pbar_eval = tqdm(total=len(val_ds) // BATCH_SIZE, leave=False)\n",
    "    pbar_eval.set_description(f'Eval')\n",
    "    total_loss_eval = torch.tensor(0.0, device=device)\n",
    "    \n",
    "    for img, r_type, energy in get_val_dataloader(val_ds):\n",
    "        img = img.to(device)\n",
    "        r_type = r_type.to(device)\n",
    "        energy = energy.to(device)\n",
    "\n",
    "        with torch.no_grad(), torch.cuda.amp.autocast():\n",
    "            r_type_pred = model(img)\n",
    "            total_loss_eval += loss_fn(r_type_pred, r_type)\n",
    "        \n",
    "        pbar_eval.update(1)\n",
    "    \n",
    "    pbar_eval.close()\n",
    "\n",
    "    eval_loss = total_loss_eval.item() * 4 / len(val_ds)\n",
    "    update_pbar(pbar, loss_avg.running_avg, eval_loss)\n",
    "    \n",
    "    scheduler.step()"
   ]
  },
  {
   "cell_type": "markdown",
   "id": "identical-generation",
   "metadata": {},
   "source": [
    "# Test"
   ]
  },
  {
   "cell_type": "code",
   "execution_count": 43,
   "id": "neither-circuit",
   "metadata": {},
   "outputs": [
    {
     "data": {
      "application/vnd.jupyter.widget-view+json": {
       "model_id": "3548eb5537b745cfa1d562713556827a",
       "version_major": 2,
       "version_minor": 0
      },
      "text/plain": [
       "  0%|          | 0/171 [00:00<?, ?it/s]"
      ]
     },
     "metadata": {},
     "output_type": "display_data"
    },
    {
     "name": "stdout",
     "output_type": "stream",
     "text": [
      "ROC-AUC score is 0.763 and accuracy  0.762\n"
     ]
    }
   ],
   "source": [
    "model.eval()\n",
    "predictions = []\n",
    "ground_truth = []\n",
    "for img, r_type, energy in tqdm(get_val_dataloader(test_ds)):\n",
    "    img = img.to(device)\n",
    "    with torch.no_grad():\n",
    "        r_type_pred = model(img)\n",
    "\n",
    "    ground_truth.append(r_type.numpy())\n",
    "    predictions.append(r_type_pred.argmax(dim=1).cpu().numpy())\n",
    "    \n",
    "predictions = np.concatenate(predictions)\n",
    "ground_truth = np.concatenate(ground_truth)\n",
    "\n",
    "ROCAUC = roc_auc_score(ground_truth, predictions)\n",
    "accuracy = accuracy_score(ground_truth, predictions)\n",
    "print(f'ROC-AUC score is {ROCAUC:.3f} and accuracy {accuracy: .3f}')"
   ]
  },
  {
   "cell_type": "markdown",
   "id": "square-jefferson",
   "metadata": {},
   "source": [
    "# Test holdout"
   ]
  },
  {
   "cell_type": "code",
   "execution_count": 44,
   "id": "informational-notification",
   "metadata": {},
   "outputs": [
    {
     "data": {
      "application/vnd.jupyter.widget-view+json": {
       "model_id": "2188da16ac304750b20d940b16e9ffa8",
       "version_major": 2,
       "version_minor": 0
      },
      "text/plain": [
       "  0%|          | 0/3 [00:00<?, ?it/s]"
      ]
     },
     "metadata": {},
     "output_type": "display_data"
    },
    {
     "name": "stdout",
     "output_type": "stream",
     "text": [
      "ROC-AUC score is 0.500 and accuracy  0.500\n"
     ]
    }
   ],
   "source": [
    "model.eval()\n",
    "predictions = []\n",
    "ground_truth = []\n",
    "for img, r_type, energy in tqdm(get_val_dataloader(test_holdout_ds)):\n",
    "    img = img.to(device)\n",
    "    with torch.no_grad():\n",
    "        r_type_pred = model(img)\n",
    "\n",
    "    ground_truth.append(r_type.numpy())\n",
    "    predictions.append(r_type_pred.argmax(dim=1).cpu().numpy())\n",
    "    \n",
    "predictions = np.concatenate(predictions)\n",
    "ground_truth = np.concatenate(ground_truth)\n",
    "\n",
    "ROCAUC = roc_auc_score(ground_truth, predictions)\n",
    "accuracy = accuracy_score(ground_truth, predictions)\n",
    "print(f'ROC-AUC score is {ROCAUC:.3f} and accuracy {accuracy: .3f}')"
   ]
  },
  {
   "cell_type": "code",
   "execution_count": 45,
   "id": "listed-millennium",
   "metadata": {},
   "outputs": [
    {
     "data": {
      "text/html": [
       "<div>\n",
       "<style scoped>\n",
       "    .dataframe tbody tr th:only-of-type {\n",
       "        vertical-align: middle;\n",
       "    }\n",
       "\n",
       "    .dataframe tbody tr th {\n",
       "        vertical-align: top;\n",
       "    }\n",
       "\n",
       "    .dataframe thead th {\n",
       "        text-align: right;\n",
       "    }\n",
       "</style>\n",
       "<table border=\"1\" class=\"dataframe\">\n",
       "  <thead>\n",
       "    <tr style=\"text-align: right;\">\n",
       "      <th></th>\n",
       "      <th>Pred</th>\n",
       "      <th>True</th>\n",
       "    </tr>\n",
       "  </thead>\n",
       "  <tbody>\n",
       "    <tr>\n",
       "      <th>0</th>\n",
       "      <td>0</td>\n",
       "      <td>0</td>\n",
       "    </tr>\n",
       "    <tr>\n",
       "      <th>1</th>\n",
       "      <td>0</td>\n",
       "      <td>1</td>\n",
       "    </tr>\n",
       "    <tr>\n",
       "      <th>2</th>\n",
       "      <td>0</td>\n",
       "      <td>1</td>\n",
       "    </tr>\n",
       "    <tr>\n",
       "      <th>3</th>\n",
       "      <td>1</td>\n",
       "      <td>0</td>\n",
       "    </tr>\n",
       "    <tr>\n",
       "      <th>4</th>\n",
       "      <td>0</td>\n",
       "      <td>0</td>\n",
       "    </tr>\n",
       "    <tr>\n",
       "      <th>5</th>\n",
       "      <td>0</td>\n",
       "      <td>0</td>\n",
       "    </tr>\n",
       "    <tr>\n",
       "      <th>6</th>\n",
       "      <td>1</td>\n",
       "      <td>1</td>\n",
       "    </tr>\n",
       "    <tr>\n",
       "      <th>7</th>\n",
       "      <td>1</td>\n",
       "      <td>0</td>\n",
       "    </tr>\n",
       "    <tr>\n",
       "      <th>8</th>\n",
       "      <td>0</td>\n",
       "      <td>1</td>\n",
       "    </tr>\n",
       "    <tr>\n",
       "      <th>9</th>\n",
       "      <td>1</td>\n",
       "      <td>1</td>\n",
       "    </tr>\n",
       "    <tr>\n",
       "      <th>10</th>\n",
       "      <td>1</td>\n",
       "      <td>1</td>\n",
       "    </tr>\n",
       "    <tr>\n",
       "      <th>11</th>\n",
       "      <td>1</td>\n",
       "      <td>0</td>\n",
       "    </tr>\n",
       "  </tbody>\n",
       "</table>\n",
       "</div>"
      ],
      "text/plain": [
       "    Pred  True\n",
       "0      0     0\n",
       "1      0     1\n",
       "2      0     1\n",
       "3      1     0\n",
       "4      0     0\n",
       "5      0     0\n",
       "6      1     1\n",
       "7      1     0\n",
       "8      0     1\n",
       "9      1     1\n",
       "10     1     1\n",
       "11     1     0"
      ]
     },
     "execution_count": 45,
     "metadata": {},
     "output_type": "execute_result"
    }
   ],
   "source": [
    "import pandas as pd\n",
    "pd.DataFrame(np.vstack([predictions, ground_truth]).T, columns=['Pred', 'True'])"
   ]
  },
  {
   "cell_type": "code",
   "execution_count": null,
   "id": "sunrise-yahoo",
   "metadata": {},
   "outputs": [],
   "source": []
  }
 ],
 "metadata": {
  "kernelspec": {
   "display_name": "Python 3",
   "language": "python",
   "name": "python3"
  },
  "language_info": {
   "codemirror_mode": {
    "name": "ipython",
    "version": 3
   },
   "file_extension": ".py",
   "mimetype": "text/x-python",
   "name": "python",
   "nbconvert_exporter": "python",
   "pygments_lexer": "ipython3",
   "version": "3.8.8"
  }
 },
 "nbformat": 4,
 "nbformat_minor": 5
}
