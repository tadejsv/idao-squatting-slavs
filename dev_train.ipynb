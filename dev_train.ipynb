{
 "cells": [
  {
   "cell_type": "code",
   "execution_count": 10,
   "id": "integral-apple",
   "metadata": {},
   "outputs": [],
   "source": [
    "import numpy as np\n",
    "import torch\n",
    "from torch.utils.data import DataLoader\n",
    "\n",
    "from src.data import IDAOData, train_transforms, val_transforms"
   ]
  },
  {
   "cell_type": "markdown",
   "id": "parental-province",
   "metadata": {},
   "source": [
    "# Train"
   ]
  },
  {
   "cell_type": "code",
   "execution_count": 11,
   "id": "modular-prefix",
   "metadata": {},
   "outputs": [],
   "source": [
    "train_ds = IDAOData('data/train', transform=train_transforms())\n",
    "val_ds = IDAOData('data/val', transform=val_transforms())\n",
    "test_ds = IDAOData('data/test', transform=val_transforms())\n",
    "test_holdout_ds = IDAOData('data/test_holdout', transform=val_transforms())"
   ]
  },
  {
   "cell_type": "code",
   "execution_count": 12,
   "id": "connected-detector",
   "metadata": {},
   "outputs": [],
   "source": [
    "train_dl = DataLoader(\n",
    "    train_ds,\n",
    "    batch_size=8,\n",
    "    shuffle=False,\n",
    "    num_workers=8,\n",
    "    pin_memory=True\n",
    ")\n",
    "\n",
    "def get_val_dataloader():\n",
    "    return DataLoader(\n",
    "        val_ds,\n",
    "        batch_size=8,\n",
    "        shuffle=False,\n",
    "        num_workers=8,\n",
    "        pin_memory=True\n",
    "    )"
   ]
  },
  {
   "cell_type": "code",
   "execution_count": null,
   "id": "aquatic-apollo",
   "metadata": {},
   "outputs": [],
   "source": []
  }
 ],
 "metadata": {
  "kernelspec": {
   "display_name": "Python 3",
   "language": "python",
   "name": "python3"
  },
  "language_info": {
   "codemirror_mode": {
    "name": "ipython",
    "version": 3
   },
   "file_extension": ".py",
   "mimetype": "text/x-python",
   "name": "python",
   "nbconvert_exporter": "python",
   "pygments_lexer": "ipython3",
   "version": "3.8.8"
  }
 },
 "nbformat": 4,
 "nbformat_minor": 5
}
