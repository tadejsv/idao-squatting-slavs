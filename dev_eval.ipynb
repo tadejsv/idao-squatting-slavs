{
 "cells": [
  {
   "cell_type": "code",
   "execution_count": 1,
   "id": "soviet-pilot",
   "metadata": {},
   "outputs": [],
   "source": [
    "import random\n",
    "from typing import Sequence, Tuple\n",
    "\n",
    "import numpy as np\n",
    "import torch\n",
    "from sklearn.metrics import mean_absolute_error, roc_auc_score\n",
    "from torch.utils.data import DataLoader\n",
    "from tqdm.auto import tqdm\n",
    "\n",
    "from src.data import IDAOData, val_transforms "
   ]
  },
  {
   "cell_type": "code",
   "execution_count": 2,
   "id": "demanding-comparative",
   "metadata": {},
   "outputs": [],
   "source": [
    "def fake_model_energy(images: np.ndarray) -> torch.Tensor:\n",
    "    \"\"\"Fake model that returns a random number in [1, 30] range.\"\"\"\n",
    "    \n",
    "    return torch.rand((images.shape[0],), device=images.device) * 29 + 1\n",
    "\n",
    "def fake_model_classes(images: np.ndarray) -> torch.Tensor:\n",
    "    \"\"\"Fake model that returns either 0 or 1 with 50% probability.\"\"\"\n",
    "    \n",
    "    return torch.randint(2, (images.shape[0],), device=images.device)\n",
    "\n",
    "device = torch.device('cuda:0')"
   ]
  },
  {
   "cell_type": "code",
   "execution_count": 3,
   "id": "labeled-yukon",
   "metadata": {},
   "outputs": [],
   "source": [
    "@torch.no_grad()\n",
    "def get_mae(dataloader, model) -> Tuple[float, float]:\n",
    "    all_energies = []\n",
    "    all_energies_pred = []\n",
    "\n",
    "    for images, classes, energies in tqdm(dataloader):\n",
    "        energies_pred = model(images.to(device))\n",
    "        all_energies.append(energies)\n",
    "        all_energies_pred.append(energies_pred.cpu())\n",
    "\n",
    "    all_energies = torch.cat(all_energies).numpy()\n",
    "    all_energies_pred = torch.cat(all_energies_pred).numpy()\n",
    "    \n",
    "    return mean_absolute_error(all_energies, all_energies_pred)\n",
    "\n",
    "@torch.no_grad()\n",
    "def get_rocauc(dataloader, model) -> Tuple[float, float]:\n",
    "    all_classes = []\n",
    "    all_classes_pred = []\n",
    "\n",
    "    for images, classes, energies in tqdm(dataloader):\n",
    "        classes_pred = model(images.to(device))\n",
    "        all_classes.append(classes)\n",
    "        all_classes_pred.append(classes_pred.cpu())\n",
    "\n",
    "    all_classes = torch.cat(all_classes).numpy()\n",
    "    all_classes_pred = torch.cat(all_classes_pred).numpy()\n",
    "    \n",
    "    return roc_auc_score(all_classes, all_classes_pred)"
   ]
  },
  {
   "cell_type": "markdown",
   "id": "backed-collar",
   "metadata": {},
   "source": [
    "# Evaluation"
   ]
  },
  {
   "cell_type": "markdown",
   "id": "correct-softball",
   "metadata": {},
   "source": [
    "## Global evaluation"
   ]
  },
  {
   "cell_type": "code",
   "execution_count": 4,
   "id": "ambient-demonstration",
   "metadata": {},
   "outputs": [
    {
     "data": {
      "application/vnd.jupyter.widget-view+json": {
       "model_id": "27c519438e044da9add210a98a954d0c",
       "version_major": 2,
       "version_minor": 0
      },
      "text/plain": [
       "  0%|          | 0/1507 [00:00<?, ?it/s]"
      ]
     },
     "metadata": {},
     "output_type": "display_data"
    },
    {
     "data": {
      "application/vnd.jupyter.widget-view+json": {
       "model_id": "a92acfc7e32c48f6aa1e591d7c1a4fff",
       "version_major": 2,
       "version_minor": 0
      },
      "text/plain": [
       "  0%|          | 0/1507 [00:00<?, ?it/s]"
      ]
     },
     "metadata": {},
     "output_type": "display_data"
    },
    {
     "name": "stdout",
     "output_type": "stream",
     "text": [
      "MAE=11.42, ROCAUC=0.498, final score -10918.78\n"
     ]
    }
   ],
   "source": [
    "train_data = IDAOData('data/train', val_transforms())\n",
    "dataloader = DataLoader(train_data, batch_size=8, shuffle=False, num_workers=8, pin_memory=True)\n",
    "\n",
    "MAE = get_mae(dataloader, fake_model_energy)\n",
    "ROCAUC = get_rocauc(dataloader, fake_model_classes)\n",
    "print(F'{MAE=:.2f}, {ROCAUC=:.3f}, final score {1000*(ROCAUC-MAE):.2f}')"
   ]
  },
  {
   "cell_type": "markdown",
   "id": "interim-infection",
   "metadata": {},
   "source": [
    "## Evaluation by class/energy\n",
    "\n",
    "Here only MAE evaluation is possible"
   ]
  },
  {
   "cell_type": "code",
   "execution_count": 5,
   "id": "standing-romance",
   "metadata": {},
   "outputs": [],
   "source": [
    "import pandas as pd\n",
    "\n",
    "def filter_dataset(dataset, energies: Sequence[int], classes: Sequence[str]):\n",
    "    \n",
    "    def belongs(label: Tuple[str, int]) -> bool:\n",
    "        return label[0] in classes and label[1] in energies\n",
    "    \n",
    "    filtered_idx = [idx for idx, label in enumerate(dataset.classes) if belongs(label)]\n",
    "    \n",
    "    dataset.classes = [label for idx, label in enumerate(dataset.classes) if idx in filtered_idx]\n",
    "    dataset.image_files = [img for idx, img in enumerate(dataset.image_files) if idx in filtered_idx]    "
   ]
  },
  {
   "cell_type": "markdown",
   "id": "bronze-sally",
   "metadata": {},
   "source": [
    "### Energy"
   ]
  },
  {
   "cell_type": "code",
   "execution_count": 12,
   "id": "preliminary-latin",
   "metadata": {},
   "outputs": [
    {
     "data": {
      "application/vnd.jupyter.widget-view+json": {
       "model_id": "b91b67c73cc24009a033075d6fd3bba0",
       "version_major": 2,
       "version_minor": 0
      },
      "text/plain": [
       "  0%|          | 0/246 [00:00<?, ?it/s]"
      ]
     },
     "metadata": {},
     "output_type": "display_data"
    },
    {
     "data": {
      "application/vnd.jupyter.widget-view+json": {
       "model_id": "40123796c32747a687185b9542d65022",
       "version_major": 2,
       "version_minor": 0
      },
      "text/plain": [
       "  0%|          | 0/255 [00:00<?, ?it/s]"
      ]
     },
     "metadata": {},
     "output_type": "display_data"
    },
    {
     "data": {
      "application/vnd.jupyter.widget-view+json": {
       "model_id": "db867cf1483b4aa6bf8cf1df86068db8",
       "version_major": 2,
       "version_minor": 0
      },
      "text/plain": [
       "  0%|          | 0/253 [00:00<?, ?it/s]"
      ]
     },
     "metadata": {},
     "output_type": "display_data"
    },
    {
     "data": {
      "application/vnd.jupyter.widget-view+json": {
       "model_id": "e4a21012ae9549e2923ca877cc153604",
       "version_major": 2,
       "version_minor": 0
      },
      "text/plain": [
       "  0%|          | 0/254 [00:00<?, ?it/s]"
      ]
     },
     "metadata": {},
     "output_type": "display_data"
    },
    {
     "data": {
      "application/vnd.jupyter.widget-view+json": {
       "model_id": "85516229ba16483083bbe2a0de6f20dd",
       "version_major": 2,
       "version_minor": 0
      },
      "text/plain": [
       "  0%|          | 0/249 [00:00<?, ?it/s]"
      ]
     },
     "metadata": {},
     "output_type": "display_data"
    },
    {
     "data": {
      "application/vnd.jupyter.widget-view+json": {
       "model_id": "d19edc454b8e4f53afbd38d3562ce992",
       "version_major": 2,
       "version_minor": 0
      },
      "text/plain": [
       "  0%|          | 0/253 [00:00<?, ?it/s]"
      ]
     },
     "metadata": {},
     "output_type": "display_data"
    }
   ],
   "source": [
    "results = []\n",
    "for energy in [1, 3, 6, 10, 20, 30]:\n",
    "    data = IDAOData('data/train', val_transforms())\n",
    "    filter_dataset(data, [energy], ['ER', 'NR'])\n",
    "    dataloader = DataLoader(data, batch_size=8, shuffle=False, num_workers=8, pin_memory=True)\n",
    "    results.append(get_mae(dataloader, fake_model_energy))"
   ]
  },
  {
   "cell_type": "code",
   "execution_count": 13,
   "id": "distinct-brook",
   "metadata": {},
   "outputs": [
    {
     "data": {
      "text/html": [
       "<div>\n",
       "<style scoped>\n",
       "    .dataframe tbody tr th:only-of-type {\n",
       "        vertical-align: middle;\n",
       "    }\n",
       "\n",
       "    .dataframe tbody tr th {\n",
       "        vertical-align: top;\n",
       "    }\n",
       "\n",
       "    .dataframe thead th {\n",
       "        text-align: right;\n",
       "    }\n",
       "</style>\n",
       "<table border=\"1\" class=\"dataframe\">\n",
       "  <thead>\n",
       "    <tr style=\"text-align: right;\">\n",
       "      <th></th>\n",
       "      <th>Energy</th>\n",
       "      <th>MAE</th>\n",
       "    </tr>\n",
       "  </thead>\n",
       "  <tbody>\n",
       "    <tr>\n",
       "      <th>0</th>\n",
       "      <td>1</td>\n",
       "      <td>14.528497</td>\n",
       "    </tr>\n",
       "    <tr>\n",
       "      <th>1</th>\n",
       "      <td>3</td>\n",
       "      <td>12.730168</td>\n",
       "    </tr>\n",
       "    <tr>\n",
       "      <th>2</th>\n",
       "      <td>6</td>\n",
       "      <td>10.477481</td>\n",
       "    </tr>\n",
       "    <tr>\n",
       "      <th>3</th>\n",
       "      <td>10</td>\n",
       "      <td>8.343360</td>\n",
       "    </tr>\n",
       "    <tr>\n",
       "      <th>4</th>\n",
       "      <td>20</td>\n",
       "      <td>7.910609</td>\n",
       "    </tr>\n",
       "    <tr>\n",
       "      <th>5</th>\n",
       "      <td>30</td>\n",
       "      <td>14.549813</td>\n",
       "    </tr>\n",
       "  </tbody>\n",
       "</table>\n",
       "</div>"
      ],
      "text/plain": [
       "   Energy        MAE\n",
       "0       1  14.528497\n",
       "1       3  12.730168\n",
       "2       6  10.477481\n",
       "3      10   8.343360\n",
       "4      20   7.910609\n",
       "5      30  14.549813"
      ]
     },
     "execution_count": 13,
     "metadata": {},
     "output_type": "execute_result"
    }
   ],
   "source": [
    "pd.DataFrame({'Energy': [1, 3, 6, 10, 20, 30], 'MAE': results})"
   ]
  },
  {
   "cell_type": "markdown",
   "id": "adjacent-stretch",
   "metadata": {},
   "source": [
    "### Classes"
   ]
  },
  {
   "cell_type": "code",
   "execution_count": 9,
   "id": "demographic-browse",
   "metadata": {},
   "outputs": [
    {
     "data": {
      "application/vnd.jupyter.widget-view+json": {
       "model_id": "310ecc32641b4bd6aa1fd34ca6f1662e",
       "version_major": 2,
       "version_minor": 0
      },
      "text/plain": [
       "  0%|          | 0/762 [00:00<?, ?it/s]"
      ]
     },
     "metadata": {},
     "output_type": "display_data"
    },
    {
     "data": {
      "application/vnd.jupyter.widget-view+json": {
       "model_id": "356f2a8d8fac4749994cb8a72bc70ad8",
       "version_major": 2,
       "version_minor": 0
      },
      "text/plain": [
       "  0%|          | 0/746 [00:00<?, ?it/s]"
      ]
     },
     "metadata": {},
     "output_type": "display_data"
    }
   ],
   "source": [
    "results = []\n",
    "for iclass in ['ER', 'NR']:\n",
    "    data = IDAOData('data/train', val_transforms())\n",
    "    filter_dataset(data, [1, 3, 6, 10, 20, 30], [iclass])\n",
    "    dataloader = DataLoader(data, batch_size=8, shuffle=False, num_workers=8, pin_memory=True)\n",
    "    results.append(get_mae(dataloader, fake_model_energy))"
   ]
  },
  {
   "cell_type": "code",
   "execution_count": 11,
   "id": "continent-yorkshire",
   "metadata": {},
   "outputs": [
    {
     "data": {
      "text/html": [
       "<div>\n",
       "<style scoped>\n",
       "    .dataframe tbody tr th:only-of-type {\n",
       "        vertical-align: middle;\n",
       "    }\n",
       "\n",
       "    .dataframe tbody tr th {\n",
       "        vertical-align: top;\n",
       "    }\n",
       "\n",
       "    .dataframe thead th {\n",
       "        text-align: right;\n",
       "    }\n",
       "</style>\n",
       "<table border=\"1\" class=\"dataframe\">\n",
       "  <thead>\n",
       "    <tr style=\"text-align: right;\">\n",
       "      <th></th>\n",
       "      <th>Class</th>\n",
       "      <th>MAE</th>\n",
       "    </tr>\n",
       "  </thead>\n",
       "  <tbody>\n",
       "    <tr>\n",
       "      <th>0</th>\n",
       "      <td>ER</td>\n",
       "      <td>11.859465</td>\n",
       "    </tr>\n",
       "    <tr>\n",
       "      <th>1</th>\n",
       "      <td>NR</td>\n",
       "      <td>10.939141</td>\n",
       "    </tr>\n",
       "  </tbody>\n",
       "</table>\n",
       "</div>"
      ],
      "text/plain": [
       "  Class        MAE\n",
       "0    ER  11.859465\n",
       "1    NR  10.939141"
      ]
     },
     "execution_count": 11,
     "metadata": {},
     "output_type": "execute_result"
    }
   ],
   "source": [
    "pd.DataFrame({'Class': ['ER', 'NR'], 'MAE': results})"
   ]
  }
 ],
 "metadata": {
  "kernelspec": {
   "display_name": "Python 3",
   "language": "python",
   "name": "python3"
  },
  "language_info": {
   "codemirror_mode": {
    "name": "ipython",
    "version": 3
   },
   "file_extension": ".py",
   "mimetype": "text/x-python",
   "name": "python",
   "nbconvert_exporter": "python",
   "pygments_lexer": "ipython3",
   "version": "3.8.8"
  }
 },
 "nbformat": 4,
 "nbformat_minor": 5
}
