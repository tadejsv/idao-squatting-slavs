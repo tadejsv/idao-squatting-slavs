{
 "cells": [
  {
   "cell_type": "code",
   "execution_count": 106,
   "id": "visible-pixel",
   "metadata": {},
   "outputs": [],
   "source": [
    "import logging\n",
    "from typing import Any, Optional\n",
    "\n",
    "import numpy as np\n",
    "from sklearn.metrics import mean_absolute_error, mean_squared_error\n",
    "import timm\n",
    "import torch\n",
    "from torch.optim import Adam\n",
    "from torch.utils.data import DataLoader\n",
    "from tqdm.auto import tqdm\n",
    "\n",
    "from src.data import IDAOData, train_transforms, val_transforms\n",
    "from src.utils import ExponentialAverage\n",
    "\n",
    "logger = logging.getLogger()\n",
    "logger.setLevel(logging.INFO)"
   ]
  },
  {
   "cell_type": "markdown",
   "id": "anticipated-terror",
   "metadata": {},
   "source": [
    "# Train"
   ]
  },
  {
   "cell_type": "code",
   "execution_count": 107,
   "id": "abstract-pillow",
   "metadata": {},
   "outputs": [],
   "source": [
    "BATCH_SIZE = 128\n",
    "N_EPOCHS = 8\n",
    "device = torch.device('cuda')"
   ]
  },
  {
   "cell_type": "code",
   "execution_count": 108,
   "id": "caroline-protocol",
   "metadata": {},
   "outputs": [],
   "source": [
    "import albumentations as A\n",
    "\n",
    "CROP = 100\n",
    "CENTER = 80\n",
    "NORM_MEAN = 0.3938\n",
    "NORM_STD = 0.15\n",
    "\n",
    "def crop_out_center(img, **kwargs):\n",
    "    height, width = img.shape\n",
    "    from_h, to_h = height//2 - CENTER//2, height//2 + CENTER//2 \n",
    "    from_w, to_w = height//2 - CENTER//2, height//2 + CENTER//2 \n",
    "\n",
    "    img[from_h:to_h, from_w:to_w] = int(0.3938 * 255)\n",
    "    return img\n",
    "    \n",
    "def train_transforms() -> Any:\n",
    "    transforms = A.Compose(\n",
    "        [\n",
    "            A.CenterCrop(CROP, CROP),\n",
    "#             A.Lambda(image=crop_out_center),\n",
    "            A.Flip(p=0.5),\n",
    "            A.RandomRotate90(p=0.5),\n",
    "            A.Normalize(mean=NORM_MEAN, std=NORM_STD),\n",
    "        ]\n",
    "    )\n",
    "\n",
    "    return transforms\n",
    "\n",
    "\n",
    "def val_transforms() -> Any:\n",
    "    transforms = A.Compose(\n",
    "        [\n",
    "            A.CenterCrop(CROP, CROP),\n",
    "#             A.Lambda(image=crop_out_center),            \n",
    "            A.Normalize(mean=NORM_MEAN, std=NORM_STD),\n",
    "        ]\n",
    "    )\n",
    "\n",
    "    return transforms\n"
   ]
  },
  {
   "cell_type": "code",
   "execution_count": 109,
   "id": "photographic-farming",
   "metadata": {},
   "outputs": [],
   "source": [
    "train_ds = IDAOData('data/train', transform=train_transforms())\n",
    "val_ds = IDAOData('data/val', transform=val_transforms())\n",
    "test_ds = IDAOData('data/test', transform=val_transforms())\n",
    "test_holdout_ds = IDAOData('data/test_holdout', transform=val_transforms())"
   ]
  },
  {
   "cell_type": "code",
   "execution_count": 110,
   "id": "alien-mercury",
   "metadata": {},
   "outputs": [],
   "source": [
    "def get_train_dataloader():\n",
    "    return DataLoader(\n",
    "        train_ds,\n",
    "        batch_size=BATCH_SIZE,\n",
    "        shuffle=True,\n",
    "        num_workers=8,\n",
    "        pin_memory=True\n",
    "    )\n",
    "\n",
    "def get_val_dataloader(dataset):\n",
    "    return DataLoader(\n",
    "        dataset,\n",
    "        batch_size=4,\n",
    "        shuffle=False,\n",
    "        num_workers=8,\n",
    "        pin_memory=True\n",
    "    )"
   ]
  },
  {
   "cell_type": "code",
   "execution_count": 111,
   "id": "contained-cloud",
   "metadata": {},
   "outputs": [],
   "source": [
    "def update_pbar(pbar, loss: float, eval_loss: Optional[float]):\n",
    "    if eval_loss is not None:\n",
    "        pbar.set_postfix({'loss': loss, 'eval_loss': eval_loss})\n",
    "    else:\n",
    "        pbar.set_postfix({'loss': loss})\n",
    "    pbar.update(1)"
   ]
  },
  {
   "cell_type": "code",
   "execution_count": 112,
   "id": "corresponding-precipitation",
   "metadata": {},
   "outputs": [],
   "source": [
    "model = timm.create_model('efficientnet_b0', in_chans=1, num_classes=1).to(device)\n",
    "optimizer = torch.optim.Adam(model.parameters(), lr=1e-2)\n",
    "scaler = torch.cuda.amp.GradScaler()\n",
    "loss_fn = torch.nn.MSELoss()\n",
    "scheduler = torch.optim.lr_scheduler.StepLR(optimizer, 3, gamma=0.1)"
   ]
  },
  {
   "cell_type": "code",
   "execution_count": 113,
   "id": "labeled-cargo",
   "metadata": {},
   "outputs": [
    {
     "data": {
      "application/vnd.jupyter.widget-view+json": {
       "model_id": "1682b308849140e2b262bc090f5a41c3",
       "version_major": 2,
       "version_minor": 0
      },
      "text/plain": [
       "  0%|          | 0/94 [00:00<?, ?it/s]"
      ]
     },
     "metadata": {},
     "output_type": "display_data"
    },
    {
     "data": {
      "application/vnd.jupyter.widget-view+json": {
       "model_id": "",
       "version_major": 2,
       "version_minor": 0
      },
      "text/plain": [
       "  0%|          | 0/5 [00:00<?, ?it/s]"
      ]
     },
     "metadata": {},
     "output_type": "display_data"
    },
    {
     "data": {
      "application/vnd.jupyter.widget-view+json": {
       "model_id": "",
       "version_major": 2,
       "version_minor": 0
      },
      "text/plain": [
       "  0%|          | 0/5 [00:00<?, ?it/s]"
      ]
     },
     "metadata": {},
     "output_type": "display_data"
    },
    {
     "data": {
      "application/vnd.jupyter.widget-view+json": {
       "model_id": "",
       "version_major": 2,
       "version_minor": 0
      },
      "text/plain": [
       "  0%|          | 0/5 [00:00<?, ?it/s]"
      ]
     },
     "metadata": {},
     "output_type": "display_data"
    },
    {
     "data": {
      "application/vnd.jupyter.widget-view+json": {
       "model_id": "",
       "version_major": 2,
       "version_minor": 0
      },
      "text/plain": [
       "  0%|          | 0/5 [00:00<?, ?it/s]"
      ]
     },
     "metadata": {},
     "output_type": "display_data"
    },
    {
     "data": {
      "application/vnd.jupyter.widget-view+json": {
       "model_id": "",
       "version_major": 2,
       "version_minor": 0
      },
      "text/plain": [
       "  0%|          | 0/5 [00:00<?, ?it/s]"
      ]
     },
     "metadata": {},
     "output_type": "display_data"
    },
    {
     "data": {
      "application/vnd.jupyter.widget-view+json": {
       "model_id": "",
       "version_major": 2,
       "version_minor": 0
      },
      "text/plain": [
       "  0%|          | 0/5 [00:00<?, ?it/s]"
      ]
     },
     "metadata": {},
     "output_type": "display_data"
    },
    {
     "data": {
      "application/vnd.jupyter.widget-view+json": {
       "model_id": "",
       "version_major": 2,
       "version_minor": 0
      },
      "text/plain": [
       "  0%|          | 0/5 [00:00<?, ?it/s]"
      ]
     },
     "metadata": {},
     "output_type": "display_data"
    },
    {
     "data": {
      "application/vnd.jupyter.widget-view+json": {
       "model_id": "",
       "version_major": 2,
       "version_minor": 0
      },
      "text/plain": [
       "  0%|          | 0/5 [00:00<?, ?it/s]"
      ]
     },
     "metadata": {},
     "output_type": "display_data"
    }
   ],
   "source": [
    "eval_loss = None\n",
    "pbar = tqdm(total=len(train_ds) // BATCH_SIZE)\n",
    "\n",
    "for epoch in range(N_EPOCHS):\n",
    "    \n",
    "    pbar.reset()\n",
    "    pbar.set_description(f'Epoch {epoch+1}/{N_EPOCHS}')\n",
    "    \n",
    "    # Train\n",
    "    model.train()\n",
    "    loss_avg = ExponentialAverage()\n",
    "    \n",
    "    for img, r_type, energy in get_train_dataloader():\n",
    "        \n",
    "        img = img.to(device)\n",
    "        r_type = r_type.to(device)\n",
    "        energy = energy.to(device).to(torch.float)\n",
    "        \n",
    "        optimizer.zero_grad()\n",
    "        \n",
    "        with torch.cuda.amp.autocast():\n",
    "            energy_pred = torch.squeeze(model(img), dim=1)\n",
    "            loss = loss_fn(energy_pred, energy)\n",
    "\n",
    "        scaler.scale(loss).backward()\n",
    "        scaler.step(optimizer)\n",
    "        scaler.update()\n",
    "        \n",
    "        update_pbar(pbar, loss_avg(loss.item()), eval_loss)\n",
    "        \n",
    "    # Eval\n",
    "    model.eval()\n",
    "    pbar_eval = tqdm(total=len(val_ds) // BATCH_SIZE, leave=False)\n",
    "    pbar_eval.set_description(f'Eval')\n",
    "    total_loss_eval = torch.tensor(0.0, device=device)\n",
    "    \n",
    "    for img, r_type, energy in get_val_dataloader(val_ds):\n",
    "        img = img.to(device)\n",
    "        r_type = r_type.to(device)\n",
    "        energy = energy.to(device).to(torch.float)\n",
    "\n",
    "        with torch.no_grad(), torch.cuda.amp.autocast():\n",
    "            energy_pred = torch.squeeze(model(img), dim=1)\n",
    "            total_loss_eval += loss_fn(energy_pred, energy)\n",
    "        \n",
    "        pbar_eval.update(1)\n",
    "    \n",
    "    pbar_eval.close()\n",
    "\n",
    "    eval_loss = total_loss_eval.item() * 4 / len(val_ds)\n",
    "    update_pbar(pbar, loss_avg.running_avg, eval_loss)\n",
    "    \n",
    "    scheduler.step()"
   ]
  },
  {
   "cell_type": "markdown",
   "id": "piano-slovak",
   "metadata": {},
   "source": [
    "# Test"
   ]
  },
  {
   "cell_type": "code",
   "execution_count": 114,
   "id": "deluxe-checkout",
   "metadata": {},
   "outputs": [
    {
     "data": {
      "application/vnd.jupyter.widget-view+json": {
       "model_id": "ef25b4d3fc77469190bbcd7e27ccf403",
       "version_major": 2,
       "version_minor": 0
      },
      "text/plain": [
       "  0%|          | 0/171 [00:00<?, ?it/s]"
      ]
     },
     "metadata": {},
     "output_type": "display_data"
    },
    {
     "name": "stdout",
     "output_type": "stream",
     "text": [
      "RMSE score is 0.812\n"
     ]
    }
   ],
   "source": [
    "model.eval()\n",
    "predictions = []\n",
    "ground_truth = []\n",
    "for img, r_type, energy in tqdm(get_val_dataloader(test_ds)):\n",
    "    img = img.to(device)\n",
    "    with torch.no_grad():\n",
    "        energy_pred =  torch.squeeze(model(img), dim=1)\n",
    "\n",
    "    ground_truth.append(energy.numpy())\n",
    "    predictions.append(energy_pred.cpu().numpy())\n",
    "    \n",
    "predictions = np.concatenate(predictions)\n",
    "ground_truth = np.concatenate(ground_truth)\n",
    "\n",
    "RMSE = mean_squared_error(ground_truth, predictions, squared=False)\n",
    "print(f'RMSE score is {RMSE:.3f}')"
   ]
  },
  {
   "cell_type": "markdown",
   "id": "precise-basement",
   "metadata": {},
   "source": [
    "# Test holdout"
   ]
  },
  {
   "cell_type": "code",
   "execution_count": 115,
   "id": "entertaining-tracy",
   "metadata": {},
   "outputs": [
    {
     "data": {
      "application/vnd.jupyter.widget-view+json": {
       "model_id": "a5893128c953472f8f290affdf3747ae",
       "version_major": 2,
       "version_minor": 0
      },
      "text/plain": [
       "  0%|          | 0/3 [00:00<?, ?it/s]"
      ]
     },
     "metadata": {},
     "output_type": "display_data"
    },
    {
     "name": "stdout",
     "output_type": "stream",
     "text": [
      "RMSE score is 5.023\n"
     ]
    }
   ],
   "source": [
    "model.eval()\n",
    "predictions = []\n",
    "ground_truth = []\n",
    "for img, r_type, energy in tqdm(get_val_dataloader(test_holdout_ds)):\n",
    "    img = img.to(device)\n",
    "    with torch.no_grad():\n",
    "        energy_pred = torch.squeeze(model(img), dim=1)\n",
    "\n",
    "    ground_truth.append(energy.numpy())\n",
    "    predictions.append(energy_pred.cpu().numpy())\n",
    "    \n",
    "predictions = np.concatenate(predictions)\n",
    "ground_truth = np.concatenate(ground_truth)\n",
    "\n",
    "RMSE = mean_squared_error(ground_truth, predictions, squared=False)\n",
    "print(f'RMSE score is {RMSE:.3f}')"
   ]
  },
  {
   "cell_type": "code",
   "execution_count": 118,
   "id": "periodic-monroe",
   "metadata": {},
   "outputs": [],
   "source": [
    "diffs = np.abs(np.repeat(np.array([[1,3,6,10,20,30]]), 12, 0) - np.expand_dims(predictions, 1))\n",
    "index = diffs.argmin(1)\n",
    "prediction_clas = [[1,3,6,10,20,30][ind] for ind in index]\n",
    "prediction_clas = np.array(prediction_clas)"
   ]
  },
  {
   "cell_type": "code",
   "execution_count": 119,
   "id": "nutritional-three",
   "metadata": {},
   "outputs": [
    {
     "data": {
      "text/html": [
       "<div>\n",
       "<style scoped>\n",
       "    .dataframe tbody tr th:only-of-type {\n",
       "        vertical-align: middle;\n",
       "    }\n",
       "\n",
       "    .dataframe tbody tr th {\n",
       "        vertical-align: top;\n",
       "    }\n",
       "\n",
       "    .dataframe thead th {\n",
       "        text-align: right;\n",
       "    }\n",
       "</style>\n",
       "<table border=\"1\" class=\"dataframe\">\n",
       "  <thead>\n",
       "    <tr style=\"text-align: right;\">\n",
       "      <th></th>\n",
       "      <th>Pred</th>\n",
       "      <th>Pred class</th>\n",
       "      <th>True</th>\n",
       "    </tr>\n",
       "  </thead>\n",
       "  <tbody>\n",
       "    <tr>\n",
       "      <th>0</th>\n",
       "      <td>27.542919</td>\n",
       "      <td>30.0</td>\n",
       "      <td>20.0</td>\n",
       "    </tr>\n",
       "    <tr>\n",
       "      <th>1</th>\n",
       "      <td>12.314597</td>\n",
       "      <td>10.0</td>\n",
       "      <td>10.0</td>\n",
       "    </tr>\n",
       "    <tr>\n",
       "      <th>2</th>\n",
       "      <td>24.063484</td>\n",
       "      <td>20.0</td>\n",
       "      <td>30.0</td>\n",
       "    </tr>\n",
       "    <tr>\n",
       "      <th>3</th>\n",
       "      <td>1.730715</td>\n",
       "      <td>1.0</td>\n",
       "      <td>1.0</td>\n",
       "    </tr>\n",
       "    <tr>\n",
       "      <th>4</th>\n",
       "      <td>9.821837</td>\n",
       "      <td>10.0</td>\n",
       "      <td>6.0</td>\n",
       "    </tr>\n",
       "    <tr>\n",
       "      <th>5</th>\n",
       "      <td>29.738873</td>\n",
       "      <td>30.0</td>\n",
       "      <td>20.0</td>\n",
       "    </tr>\n",
       "    <tr>\n",
       "      <th>6</th>\n",
       "      <td>3.381606</td>\n",
       "      <td>3.0</td>\n",
       "      <td>3.0</td>\n",
       "    </tr>\n",
       "    <tr>\n",
       "      <th>7</th>\n",
       "      <td>2.165079</td>\n",
       "      <td>3.0</td>\n",
       "      <td>1.0</td>\n",
       "    </tr>\n",
       "    <tr>\n",
       "      <th>8</th>\n",
       "      <td>20.362335</td>\n",
       "      <td>20.0</td>\n",
       "      <td>30.0</td>\n",
       "    </tr>\n",
       "    <tr>\n",
       "      <th>9</th>\n",
       "      <td>9.219640</td>\n",
       "      <td>10.0</td>\n",
       "      <td>10.0</td>\n",
       "    </tr>\n",
       "    <tr>\n",
       "      <th>10</th>\n",
       "      <td>3.018731</td>\n",
       "      <td>3.0</td>\n",
       "      <td>3.0</td>\n",
       "    </tr>\n",
       "    <tr>\n",
       "      <th>11</th>\n",
       "      <td>1.578539</td>\n",
       "      <td>1.0</td>\n",
       "      <td>1.0</td>\n",
       "    </tr>\n",
       "  </tbody>\n",
       "</table>\n",
       "</div>"
      ],
      "text/plain": [
       "         Pred  Pred class  True\n",
       "0   27.542919        30.0  20.0\n",
       "1   12.314597        10.0  10.0\n",
       "2   24.063484        20.0  30.0\n",
       "3    1.730715         1.0   1.0\n",
       "4    9.821837        10.0   6.0\n",
       "5   29.738873        30.0  20.0\n",
       "6    3.381606         3.0   3.0\n",
       "7    2.165079         3.0   1.0\n",
       "8   20.362335        20.0  30.0\n",
       "9    9.219640        10.0  10.0\n",
       "10   3.018731         3.0   3.0\n",
       "11   1.578539         1.0   1.0"
      ]
     },
     "execution_count": 119,
     "metadata": {},
     "output_type": "execute_result"
    }
   ],
   "source": [
    "import pandas as pd\n",
    "pd.DataFrame(np.vstack([predictions, prediction_clas, ground_truth]).T, columns=['Pred', 'Pred class', 'True'])"
   ]
  },
  {
   "cell_type": "code",
   "execution_count": null,
   "id": "encouraging-turner",
   "metadata": {},
   "outputs": [],
   "source": []
  }
 ],
 "metadata": {
  "kernelspec": {
   "display_name": "Python 3",
   "language": "python",
   "name": "python3"
  },
  "language_info": {
   "codemirror_mode": {
    "name": "ipython",
    "version": 3
   },
   "file_extension": ".py",
   "mimetype": "text/x-python",
   "name": "python",
   "nbconvert_exporter": "python",
   "pygments_lexer": "ipython3",
   "version": "3.8.8"
  }
 },
 "nbformat": 4,
 "nbformat_minor": 5
}
